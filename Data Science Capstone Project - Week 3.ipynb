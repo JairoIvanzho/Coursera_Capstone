{
 "cells": [
  {
   "cell_type": "markdown",
   "metadata": {},
   "source": [
    "# WELCOME TO DATA SCIENCE CAPSTONE PROJECT - WEEK 3\n",
    "## For this assignment, you will be required to explore and cluster the neighborhoods in Toronto.\n",
    "### Part 1:\n",
    "First, we import the necessary libraries"
   ]
  },
  {
   "cell_type": "code",
   "execution_count": 167,
   "metadata": {},
   "outputs": [],
   "source": [
    "import requests\n",
    "import lxml.html as lh\n",
    "import pandas as pd"
   ]
  },
  {
   "cell_type": "markdown",
   "metadata": {},
   "source": [
    "Create a handle, page, to handle the contents of the website. Then, Store the contents of the website under doc and finally, Parse data that are stored between tr of HTML"
   ]
  },
  {
   "cell_type": "code",
   "execution_count": 168,
   "metadata": {},
   "outputs": [],
   "source": [
    "url='https://en.wikipedia.org/wiki/List_of_postal_codes_of_Canada:_M'\n",
    "page = requests.get(url)\n",
    "doc = lh.fromstring(page.content)\n",
    "tr_elements = doc.xpath('//tr')"
   ]
  },
  {
   "cell_type": "markdown",
   "metadata": {},
   "source": [
    "Create an empty list and for each row, store each first element (header) and an empty list"
   ]
  },
  {
   "cell_type": "code",
   "execution_count": 169,
   "metadata": {},
   "outputs": [
    {
     "name": "stdout",
     "output_type": "stream",
     "text": [
      "1 Postcode\n",
      "2 Borough\n",
      "3 Neighbourhood\n",
      "\n"
     ]
    }
   ],
   "source": [
    "col=[]\n",
    "i=0\n",
    "\n",
    "for t in tr_elements[0]:\n",
    "    i+=1\n",
    "    name=t.text_content()\n",
    "    print (i,name)\n",
    "    col.append((name,[]))"
   ]
  },
  {
   "cell_type": "markdown",
   "metadata": {},
   "source": [
    "Then, we are going to go for any row and assign the value to the above list.\n",
    "If row is not of size 3, the //tr data is not from our table."
   ]
  },
  {
   "cell_type": "code",
   "execution_count": 170,
   "metadata": {},
   "outputs": [],
   "source": [
    "for j in range(1,len(tr_elements)):\n",
    "\n",
    "    T=tr_elements[j]\n",
    "    \n",
    "    if len(T)!=3:\n",
    "        break\n",
    "    \n",
    "    i=0\n",
    "    \n",
    "    for t in T.iterchildren():\n",
    "        data=t.text_content() \n",
    "        if i>0:\n",
    "            try:\n",
    "                data=int(data)\n",
    "            except:\n",
    "                pass\n",
    "        col[i][1].append(data)\n",
    "        i+=1"
   ]
  },
  {
   "cell_type": "markdown",
   "metadata": {},
   "source": [
    "Create a Dictionary and then, assign the dictionary to a dataframe"
   ]
  },
  {
   "cell_type": "code",
   "execution_count": 171,
   "metadata": {},
   "outputs": [],
   "source": [
    "Dict={title:column for (title,column) in col}\n",
    "df=pd.DataFrame(Dict)"
   ]
  },
  {
   "cell_type": "markdown",
   "metadata": {},
   "source": [
    "Filter the Dataframe when Borough is not equal to \"Not Assigned\", then, replace the end of lines for each row and change the column name by Neighbourhood"
   ]
  },
  {
   "cell_type": "code",
   "execution_count": 172,
   "metadata": {},
   "outputs": [
    {
     "data": {
      "text/html": [
       "<div>\n",
       "<style scoped>\n",
       "    .dataframe tbody tr th:only-of-type {\n",
       "        vertical-align: middle;\n",
       "    }\n",
       "\n",
       "    .dataframe tbody tr th {\n",
       "        vertical-align: top;\n",
       "    }\n",
       "\n",
       "    .dataframe thead th {\n",
       "        text-align: right;\n",
       "    }\n",
       "</style>\n",
       "<table border=\"1\" class=\"dataframe\">\n",
       "  <thead>\n",
       "    <tr style=\"text-align: right;\">\n",
       "      <th></th>\n",
       "      <th>Postcode</th>\n",
       "      <th>Borough</th>\n",
       "      <th>Neighbourhood</th>\n",
       "    </tr>\n",
       "  </thead>\n",
       "  <tbody>\n",
       "    <tr>\n",
       "      <td>0</td>\n",
       "      <td>M1B</td>\n",
       "      <td>Scarborough</td>\n",
       "      <td>Malvern, Rouge</td>\n",
       "    </tr>\n",
       "    <tr>\n",
       "      <td>1</td>\n",
       "      <td>M1C</td>\n",
       "      <td>Scarborough</td>\n",
       "      <td>Highland Creek, Port Union, Rouge Hill</td>\n",
       "    </tr>\n",
       "    <tr>\n",
       "      <td>2</td>\n",
       "      <td>M1E</td>\n",
       "      <td>Scarborough</td>\n",
       "      <td>Guildwood, Morningside, West Hill</td>\n",
       "    </tr>\n",
       "    <tr>\n",
       "      <td>3</td>\n",
       "      <td>M1G</td>\n",
       "      <td>Scarborough</td>\n",
       "      <td>Woburn</td>\n",
       "    </tr>\n",
       "    <tr>\n",
       "      <td>4</td>\n",
       "      <td>M1H</td>\n",
       "      <td>Scarborough</td>\n",
       "      <td>Cedarbrae</td>\n",
       "    </tr>\n",
       "  </tbody>\n",
       "</table>\n",
       "</div>"
      ],
      "text/plain": [
       "  Postcode      Borough                           Neighbourhood\n",
       "0      M1B  Scarborough                          Malvern, Rouge\n",
       "1      M1C  Scarborough  Highland Creek, Port Union, Rouge Hill\n",
       "2      M1E  Scarborough       Guildwood, Morningside, West Hill\n",
       "3      M1G  Scarborough                                  Woburn\n",
       "4      M1H  Scarborough                               Cedarbrae"
      ]
     },
     "execution_count": 172,
     "metadata": {},
     "output_type": "execute_result"
    }
   ],
   "source": [
    "df_torontoPC = df[df['Borough']!='Not assigned']\n",
    "df_torontoPC.is_copy = None\n",
    "df_torontoPC['Neighbourhood\\n'] = df_torontoPC['Neighbourhood\\n'].str[:-1]\n",
    "df_torontoPC.rename(columns={'Neighbourhood\\n':'Neighbourhood'}, inplace=True)\n",
    "df_torontoPC['Neighbourhood'].replace('Not assigned',df_torontoPC['Borough'], inplace=True)\n",
    "df_torontoPC = df_torontoPC.sort_values('Neighbourhood').groupby('Postcode').agg({'Borough':'first','Neighbourhood':', '.join})\n",
    "df_torontoPC.reset_index(inplace=True)\n",
    "df_torontoPC.head()\n",
    "#postcode=['M5G','M2H','M4B','M1J']\n",
    "#df_torontoPC[df_torontoPC.Postcode.isin(postcode)]"
   ]
  },
  {
   "cell_type": "code",
   "execution_count": 173,
   "metadata": {},
   "outputs": [
    {
     "data": {
      "text/plain": [
       "(103, 3)"
      ]
     },
     "execution_count": 173,
     "metadata": {},
     "output_type": "execute_result"
    }
   ],
   "source": [
    "df_torontoPC.shape"
   ]
  },
  {
   "cell_type": "markdown",
   "metadata": {},
   "source": [
    "### Part 2:"
   ]
  },
  {
   "cell_type": "markdown",
   "metadata": {},
   "source": [
    "First, we need to install de geocoder package"
   ]
  },
  {
   "cell_type": "code",
   "execution_count": 174,
   "metadata": {},
   "outputs": [
    {
     "ename": "SyntaxError",
     "evalue": "invalid syntax (<ipython-input-174-1c63f85a465d>, line 1)",
     "output_type": "error",
     "traceback": [
      "\u001b[1;36m  File \u001b[1;32m\"<ipython-input-174-1c63f85a465d>\"\u001b[1;36m, line \u001b[1;32m1\u001b[0m\n\u001b[1;33m    conda update -n base -c defaults conda\u001b[0m\n\u001b[1;37m               ^\u001b[0m\n\u001b[1;31mSyntaxError\u001b[0m\u001b[1;31m:\u001b[0m invalid syntax\n"
     ]
    }
   ],
   "source": [
    "#conda update -n base -c defaults conda\n",
    "!conda install -c conda-forge geocoder -y"
   ]
  },
  {
   "cell_type": "markdown",
   "metadata": {},
   "source": [
    "Then, we create a function to request the coordinates by postal code:\n",
    "\n",
    "The function receives as parameter the postal code and then, return the coordinates"
   ]
  },
  {
   "cell_type": "code",
   "execution_count": 175,
   "metadata": {},
   "outputs": [
    {
     "name": "stdout",
     "output_type": "stream",
     "text": [
      "Latitud:  43.65609081300005\n",
      "Longitud:  -79.38492999999994\n"
     ]
    }
   ],
   "source": [
    "import geocoder # import geocoder\n",
    "postal_code='M5G'\n",
    "# initialize your variable to None\n",
    "lat_lng_coords = None\n",
    "\n",
    "# loop until you get the coordinates\n",
    "while(lat_lng_coords is None):\n",
    "  #g = geocoder.google('{}, Toronto, Ontario'.format(postal_code))\n",
    "    g = geocoder.arcgis('{}, Toronto, Ontario'.format(postal_code))\n",
    "    lat_lng_coords = g.latlng\n",
    "\n",
    "latitude = lat_lng_coords[0]\n",
    "longitude = lat_lng_coords[1]\n",
    "print(\"Latitud: \", latitude)\n",
    "print(\"Longitud: \", longitude)"
   ]
  },
  {
   "cell_type": "markdown",
   "metadata": {},
   "source": [
    "We need to do that for all of the Postal Codes to our dataframe, so we create a loop in for to that:"
   ]
  },
  {
   "cell_type": "code",
   "execution_count": 176,
   "metadata": {},
   "outputs": [],
   "source": [
    "postalcodes=df_torontoPC.Postcode.unique()"
   ]
  },
  {
   "cell_type": "code",
   "execution_count": 177,
   "metadata": {},
   "outputs": [],
   "source": [
    "import geocoder\n",
    "latitudes = []\n",
    "longitudes = []\n",
    "codigosPostales = []\n",
    "for i in range(len(postalcodes)):\n",
    "    codigoPostal = postalcodes[i]\n",
    "    g = geocoder.arcgis('{}, Toronto, Ontario'.format(codigoPostal))\n",
    "    #print(\"Latitud: \", g.latlng[0], \" Longitud: \", g.latlng[1], \" del codigo Postal: \", codigoPostal)\n",
    "    latitudes.append(g.latlng[0])\n",
    "    longitudes.append(g.latlng[1])\n",
    "    codigosPostales.append(codigoPostal)"
   ]
  },
  {
   "cell_type": "markdown",
   "metadata": {},
   "source": [
    "Then, we convert the lists in a DataFrame to merge with the first dataframe created"
   ]
  },
  {
   "cell_type": "code",
   "execution_count": 178,
   "metadata": {},
   "outputs": [
    {
     "data": {
      "text/html": [
       "<div>\n",
       "<style scoped>\n",
       "    .dataframe tbody tr th:only-of-type {\n",
       "        vertical-align: middle;\n",
       "    }\n",
       "\n",
       "    .dataframe tbody tr th {\n",
       "        vertical-align: top;\n",
       "    }\n",
       "\n",
       "    .dataframe thead th {\n",
       "        text-align: right;\n",
       "    }\n",
       "</style>\n",
       "<table border=\"1\" class=\"dataframe\">\n",
       "  <thead>\n",
       "    <tr style=\"text-align: right;\">\n",
       "      <th></th>\n",
       "      <th>Latitud</th>\n",
       "      <th>Longitud</th>\n",
       "      <th>CodigoPostal</th>\n",
       "    </tr>\n",
       "  </thead>\n",
       "  <tbody>\n",
       "    <tr>\n",
       "      <td>0</td>\n",
       "      <td>43.811525</td>\n",
       "      <td>-79.195517</td>\n",
       "      <td>M1B</td>\n",
       "    </tr>\n",
       "    <tr>\n",
       "      <td>1</td>\n",
       "      <td>43.785665</td>\n",
       "      <td>-79.158725</td>\n",
       "      <td>M1C</td>\n",
       "    </tr>\n",
       "    <tr>\n",
       "      <td>2</td>\n",
       "      <td>43.765815</td>\n",
       "      <td>-79.175193</td>\n",
       "      <td>M1E</td>\n",
       "    </tr>\n",
       "    <tr>\n",
       "      <td>3</td>\n",
       "      <td>43.768369</td>\n",
       "      <td>-79.217590</td>\n",
       "      <td>M1G</td>\n",
       "    </tr>\n",
       "    <tr>\n",
       "      <td>4</td>\n",
       "      <td>43.769688</td>\n",
       "      <td>-79.239440</td>\n",
       "      <td>M1H</td>\n",
       "    </tr>\n",
       "  </tbody>\n",
       "</table>\n",
       "</div>"
      ],
      "text/plain": [
       "     Latitud   Longitud CodigoPostal\n",
       "0  43.811525 -79.195517          M1B\n",
       "1  43.785665 -79.158725          M1C\n",
       "2  43.765815 -79.175193          M1E\n",
       "3  43.768369 -79.217590          M1G\n",
       "4  43.769688 -79.239440          M1H"
      ]
     },
     "execution_count": 178,
     "metadata": {},
     "output_type": "execute_result"
    }
   ],
   "source": [
    "list_of_tuples = list(zip(latitudes, longitudes, codigosPostales)) \n",
    "coordenadasCP_df = pd.DataFrame(list_of_tuples, columns = ['Latitud','Longitud','CodigoPostal'])\n",
    "coordenadasCP_df.head()"
   ]
  },
  {
   "cell_type": "markdown",
   "metadata": {},
   "source": [
    "For last, we merge both dataframes and drop the column duplicated"
   ]
  },
  {
   "cell_type": "code",
   "execution_count": 179,
   "metadata": {},
   "outputs": [
    {
     "data": {
      "text/html": [
       "<div>\n",
       "<style scoped>\n",
       "    .dataframe tbody tr th:only-of-type {\n",
       "        vertical-align: middle;\n",
       "    }\n",
       "\n",
       "    .dataframe tbody tr th {\n",
       "        vertical-align: top;\n",
       "    }\n",
       "\n",
       "    .dataframe thead th {\n",
       "        text-align: right;\n",
       "    }\n",
       "</style>\n",
       "<table border=\"1\" class=\"dataframe\">\n",
       "  <thead>\n",
       "    <tr style=\"text-align: right;\">\n",
       "      <th></th>\n",
       "      <th>Postcode</th>\n",
       "      <th>Borough</th>\n",
       "      <th>Neighbourhood</th>\n",
       "      <th>Latitud</th>\n",
       "      <th>Longitud</th>\n",
       "    </tr>\n",
       "  </thead>\n",
       "  <tbody>\n",
       "    <tr>\n",
       "      <td>0</td>\n",
       "      <td>M1B</td>\n",
       "      <td>Scarborough</td>\n",
       "      <td>Malvern, Rouge</td>\n",
       "      <td>43.811525</td>\n",
       "      <td>-79.195517</td>\n",
       "    </tr>\n",
       "    <tr>\n",
       "      <td>1</td>\n",
       "      <td>M1C</td>\n",
       "      <td>Scarborough</td>\n",
       "      <td>Highland Creek, Port Union, Rouge Hill</td>\n",
       "      <td>43.785665</td>\n",
       "      <td>-79.158725</td>\n",
       "    </tr>\n",
       "    <tr>\n",
       "      <td>2</td>\n",
       "      <td>M1E</td>\n",
       "      <td>Scarborough</td>\n",
       "      <td>Guildwood, Morningside, West Hill</td>\n",
       "      <td>43.765815</td>\n",
       "      <td>-79.175193</td>\n",
       "    </tr>\n",
       "    <tr>\n",
       "      <td>3</td>\n",
       "      <td>M1G</td>\n",
       "      <td>Scarborough</td>\n",
       "      <td>Woburn</td>\n",
       "      <td>43.768369</td>\n",
       "      <td>-79.217590</td>\n",
       "    </tr>\n",
       "    <tr>\n",
       "      <td>4</td>\n",
       "      <td>M1H</td>\n",
       "      <td>Scarborough</td>\n",
       "      <td>Cedarbrae</td>\n",
       "      <td>43.769688</td>\n",
       "      <td>-79.239440</td>\n",
       "    </tr>\n",
       "  </tbody>\n",
       "</table>\n",
       "</div>"
      ],
      "text/plain": [
       "  Postcode      Borough                           Neighbourhood    Latitud  \\\n",
       "0      M1B  Scarborough                          Malvern, Rouge  43.811525   \n",
       "1      M1C  Scarborough  Highland Creek, Port Union, Rouge Hill  43.785665   \n",
       "2      M1E  Scarborough       Guildwood, Morningside, West Hill  43.765815   \n",
       "3      M1G  Scarborough                                  Woburn  43.768369   \n",
       "4      M1H  Scarborough                               Cedarbrae  43.769688   \n",
       "\n",
       "    Longitud  \n",
       "0 -79.195517  \n",
       "1 -79.158725  \n",
       "2 -79.175193  \n",
       "3 -79.217590  \n",
       "4 -79.239440  "
      ]
     },
     "execution_count": 179,
     "metadata": {},
     "output_type": "execute_result"
    }
   ],
   "source": [
    "mergeDF = pd.merge(left=df_torontoPC, right=coordenadasCP_df, how='left', left_on='Postcode', right_on='CodigoPostal')\n",
    "mergeDF.drop(['CodigoPostal'], axis=1, inplace=True)\n",
    "mergeDF.head()"
   ]
  },
  {
   "cell_type": "markdown",
   "metadata": {},
   "source": [
    "## Part 3:"
   ]
  },
  {
   "cell_type": "code",
   "execution_count": null,
   "metadata": {},
   "outputs": [],
   "source": []
  }
 ],
 "metadata": {
  "kernelspec": {
   "display_name": "Python 3",
   "language": "python",
   "name": "python3"
  },
  "language_info": {
   "codemirror_mode": {
    "name": "ipython",
    "version": 3
   },
   "file_extension": ".py",
   "mimetype": "text/x-python",
   "name": "python",
   "nbconvert_exporter": "python",
   "pygments_lexer": "ipython3",
   "version": "3.7.4"
  }
 },
 "nbformat": 4,
 "nbformat_minor": 2
}
